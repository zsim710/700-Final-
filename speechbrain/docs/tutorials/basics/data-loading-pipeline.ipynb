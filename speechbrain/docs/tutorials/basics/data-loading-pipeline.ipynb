{
 "cells": [
  {
   "cell_type": "markdown",
   "metadata": {
    "id": "sb_auto_header",
    "tags": [
     "sb_auto_header"
    ]
   },
   "source": [
    "<!-- This cell is automatically updated by tools/tutorial-cell-updater.py -->\n",
    "<!-- The contents are initialized from tutorials/notebook-header.md -->\n",
    "\n",
    "[<img src=\"https://colab.research.google.com/assets/colab-badge.svg\" alt=\"Open In Colab\"/>](https://colab.research.google.com/github/speechbrain/speechbrain/blob/develop/docs/tutorials/basics/data-loading-pipeline.ipynb)\n",
    "to execute or view/download this notebook on\n",
    "[GitHub](https://github.com/speechbrain/speechbrain/tree/develop/docs/tutorials/basics/data-loading-pipeline.ipynb)"
   ]
  },
  {
   "cell_type": "markdown",
   "metadata": {
    "id": "5ZZTjoafZw49"
   },
   "source": [
    "# Data Loading\n",
    "\n",
    "Handling data consumes 90% of the active work time in many machine learning projects.\n",
    "\n",
    "SpeechBrain complements standard PyTorch data loading in handling variable-length sequences, large datasets, and complex data transformation pipelines. These are typical challenges when working with speech, but SpeechBrain tries not to make assumptions about your data."
   ]
  },
  {
   "cell_type": "markdown",
   "metadata": {
    "id": "EnirXev8XUyt"
   },
   "source": [
    "## Install dependencies\n"
   ]
  },
  {
   "cell_type": "code",
   "execution_count": null,
   "metadata": {
    "id": "5spDEaL1yddy"
   },
   "outputs": [],
   "source": [
    "%%capture\n",
    "# Installing SpeechBrain via pip\n",
    "BRANCH = 'develop'\n",
    "!python -m pip install git+https://github.com/speechbrain/speechbrain.git@$BRANCH"
   ]
  },
  {
   "cell_type": "code",
   "execution_count": null,
   "metadata": {
    "id": "DPX-4BBbX5L9"
   },
   "outputs": [],
   "source": [
    "import speechbrain\n",
    "import torch"
   ]
  },
  {
   "cell_type": "markdown",
   "metadata": {
    "id": "HL_oCiDyoP8Y"
   },
   "source": [
    "In this tutorial we will use MiniLibriSpeech from https://www.openslr.org/resources/31: we download the validation set in the following two cells as well as images and scripts."
   ]
  },
  {
   "cell_type": "code",
   "execution_count": null,
   "metadata": {
    "id": "vtSWx0KAX5L9"
   },
   "outputs": [],
   "source": [
    "%%capture\n",
    "# here we download the material needed for this tutorial: images and an example based on mini-librispeech\n",
    "!wget https://www.dropbox.com/s/b61lo6gkpuplanq/MiniLibriSpeechTutorial.tar.gz?dl=0\n",
    "!tar -xvzf MiniLibriSpeechTutorial.tar.gz?dl=0\n",
    "# downloading mini_librispeech dev data\n",
    "!wget https://www.openslr.org/resources/31/dev-clean-2.tar.gz\n",
    "!tar -xvzf dev-clean-2.tar.gz"
   ]
  },
  {
   "cell_type": "markdown",
   "metadata": {
    "id": "HBlTW2Mq5S35"
   },
   "source": [
    "## Preface: PyTorch data loading pipeline\n",
    "\n",
    "SpeechBrain data-IO follows and extends [PyTorch data loading](https://pytorch.org/docs/stable/data.html). This preface section recaps PyTorch data loading and does not yet consider the SpeechBrain data loading extensions.\n",
    "\n",
    "### Overview\n",
    "PyTorch data loading can run in many configurations,\n",
    "but a typical approach has these basic elements:\n",
    "- a [Dataset](https://pytorch.org/docs/stable/data.html#torch.utils.data.Dataset), which loads data points one-at-a-time.\n",
    "- a [collation function](https://pytorch.org/docs/stable/data.html#dataloader-collate-fn), or ``collate_fn`` for short, which takes a list of data points and forms a batch.\n",
    "- a [Sampler](https://pytorch.org/docs/stable/data.html#data-loading-order-and-sampler), which determines the order in which the Dataset is iterated.\n",
    "- a [DataLoader](https://pytorch.org/docs/stable/data.html#torch.utils.data.DataLoader), which combines the elements above (and has defaults for ``collate_fn`` and Sampler), and orchestrates the whole pipeline.\n",
    "\n"
   ]
  },
  {
   "cell_type": "markdown",
   "metadata": {
    "id": "qHNJPq6PfInp"
   },
   "source": [
    "### Dataset\n",
    "The role of the Dataset is to produce single data points. Typically they are loaded off the disk, but they could also come from some more complex source or in some cases just from RAM. You can write your own Dataset subclass or sometimes you can use a standardized class. The training, validation, and test subsets get their own Dataset instances.\n",
    "\n",
    "The Dataset interface is simple; it implements\n",
    "`__getitem__` and usually also `__len__`. Usually, \"map-style\" Datasets are used, but it's worth noting that PyTorch also has a notion of [IterableDataset](https://pytorch.org/docs/stable/data.html#iterable-style-datasets)s.\n",
    "\n",
    "`__getitem__` can return _anything_ because data can look like _anything_. Often, though, a data point consists of multiple associated things (e.g. an image and a label, or a speech waveform and its transcription). The Dataset should return all of these associated things.\n",
    "\n",
    "It is also relatively common for the Dataset to somehow transform the data on the fly, on the CPU.\n"
   ]
  },
  {
   "cell_type": "markdown",
   "metadata": {
    "id": "huVMufrKo9uf"
   },
   "source": [
    "### Collation function\n",
    "\n",
    "The ``collate_fn`` just converts a list of examples into a PyTorch tensor batch. If the data has variable-length sequences, ``collate_fn`` usually needs to implement padding."
   ]
  },
  {
   "cell_type": "markdown",
   "metadata": {
    "id": "ZmGerYfHpBxu"
   },
   "source": [
    "### Sampler\n",
    "Typically users don't need to create their own sampler; the two default options are to iterate in the original Dataset order or to iterate in random order.\n"
   ]
  },
  {
   "cell_type": "markdown",
   "metadata": {
    "id": "fpuhtBUEpECO"
   },
   "source": [
    "### DataLoader\n",
    "\n",
    "The DataLoader takes the other elements above and many other arguments such as batch size. The DataLoader has basic defaults for all arguments (except the Dataset, of course), but it's worthwhile to understand the [args](https://pytorch.org/docs/stable/data.html#torch.utils.data.DataLoader).\n",
    "\n",
    "The DataLoader object is iterated in the training loop, and every Dataset instance (e.g. training, validation, test) gets its own DataLoader.\n",
    "```python\n",
    "train_loader = DataLoader(train_data, collate_fn=PaddedBatch, batch_size=32, num_workers=2)\n",
    "for batch in train_loader:\n",
    "    pred = model(batch.signal)\n",
    "    ...\n",
    "```\n",
    "\n",
    "The iterator that DataLoader returns can either load batches in the same process that it is created in (`num_workers=0`), or it can start a new process (`num_workers=1`) or multiple new processes (`num_workers>1`). Because of the Global Interpreter Lock, Python cannot work on two tasks at the same time in a single process. Using at least one background worker process to load data while simultaneously running training is often essential for taking full advantage of GPU compute resources."
   ]
  },
  {
   "cell_type": "markdown",
   "metadata": {
    "id": "ZdapE8K_mUkP"
   },
   "source": [
    "## SpeechBrain Basic dataIO\n",
    "SpeechBrain basic data loading pipeline is illustrated in the Figure below."
   ]
  },
  {
   "cell_type": "code",
   "execution_count": null,
   "metadata": {
    "id": "IMuEjjg8jsCo"
   },
   "outputs": [],
   "source": [
    "from IPython.display import Image\n",
    "Image('sbdataio.png', width=1000)"
   ]
  },
  {
   "cell_type": "markdown",
   "metadata": {
    "id": "eTOup2tV-oHz"
   },
   "source": [
    "Note that also more advanced/flexible pipelines are possible, where users can integrate their own custom Datasets, DataLoaders, and Samplers. These are illustrated in the [dataIO Advanced tutorial](todo)."
   ]
  },
  {
   "cell_type": "markdown",
   "metadata": {
    "id": "4rXqNQYb_Taw"
   },
   "source": [
    "The basic dataIO pipeline is organized around three \"key\" blocks: **DynamicItemDataset**, **Dynamic Items Pipelines (DIPs)**  and **CategoricalEncoder** which are tightly connected.\n",
    "\n",
    "**DynamicItemDataset** inherits from `torch.utils.data.Dataset` and has been built to work together with **Dynamic Items Pipelines** to provide a straightforward and flexible way to fetch and transform data and labels from the raw dataset stored in your disk.\n",
    "\n",
    "**DIPs** consists of user-defined functions in which the user specifies operations applied to metadata and data contained in the dataset. E.g. reading and augmenting an audio file or encoding a sequence of words using SentencePiece tokenizer.\n",
    "These functions are called inside **DynamicItemDataset** `__getitem__` method and are run in parallel on the CPU.\n",
    "\n",
    "The **CategoricalEncoder** is a convenient abstraction we provide for multi-class classification problems and it is sub-classed into **TextEncoder** and **CTCTextEncoder** which instead can be used for sequence-to-sequence applications related to text, such as ASR.\n",
    "\n",
    "\n",
    "Thanks to these abstractions, most of the work necessary to set up the data IO pipeline is parsing the dataset into suitable annotation supported by **DynamicItemDataset** (SpeechBrain supports both CSV and JSON formats).\n",
    "\n",
    "\n",
    "Once this annotation is ready, a flexible and efficient pipeline can be created in few lines of code, as SpeechBrain will take care under the hood of padding and other operations.\n",
    "\n"
   ]
  },
  {
   "cell_type": "markdown",
   "metadata": {
    "id": "kOmWMuv_XDg4"
   },
   "source": [
    "In the following tutorial, we will explain in detail how these blocks work.\n",
    "We will start from the required CSV or JSON annotation whose purpose is to represent and describe the information contained in the dataset.\n",
    "For example:\n",
    "\n",
    "*   Paths to audio files, pre-extracted features et cetera.\n",
    "*   Metadata such as words spoken in the audio files, Signal-to-Noise-Ratio, sound event tags, speaker identities et cetera.\n",
    "\n",
    "Basically any information required to train your algorithm."
   ]
  },
  {
   "cell_type": "markdown",
   "metadata": {
    "id": "T9VSd39Cmqxm"
   },
   "source": [
    "### Dataset Annotation\n",
    "\n",
    "SpeechBrain offers native support for JSON and CSV formats for **describing a dataset** and, in fact, in official recipes (such as LibriSpeech ASR recipes) we provide parsing scripts to obtain such formats.  "
   ]
  },
  {
   "cell_type": "markdown",
   "metadata": {
    "id": "ZFaNums8qj1J"
   },
   "source": [
    "We can take a glimpse to how these files can be structured using the downloaded Mini-LibriSpeech example.\n",
    "\n",
    "\n",
    "Each file in Mini-LibriSpeech is an utterance from a single speaker, thus either JSON and CSV formats can be used to contain the absolute path to that file, the speaker identity and the words the speaker utters. This is enough to build an Automatic Speech Recognition (ASR) system.\n",
    "\n",
    "Below we can take a look at how the JSON file used for the trivial speaker recognition example illustrated before is structured:"
   ]
  },
  {
   "cell_type": "code",
   "execution_count": null,
   "metadata": {
    "id": "Jngugj4Ij9rV"
   },
   "outputs": [],
   "source": [
    "from parse_data import parse_to_json # parse_data is a local library downloaded at the step before\n",
    "parse_to_json(\"./LibriSpeech/dev-clean-2\") # how to build this function will be shown later"
   ]
  },
  {
   "cell_type": "code",
   "execution_count": null,
   "metadata": {
    "id": "-3W88LmJrYRH"
   },
   "outputs": [],
   "source": [
    "!head data.json"
   ]
  },
  {
   "cell_type": "markdown",
   "metadata": {
    "id": "6RfqKxBzQr9J"
   },
   "source": [
    "Thus the JSON file is a dictionary where each key is unique and corresponds to a single example (the key is the example ID). Each example is in its turn a dictionary containing the path to the utterance `file_path`, the `words` spoken the identity of the speaker `spkID` and the `length` in samples of the audio in `file_path`."
   ]
  },
  {
   "cell_type": "markdown",
   "metadata": {
    "id": "gg4W-JUgdmYB"
   },
   "source": [
    "the CSV file also has an equivalent structure:"
   ]
  },
  {
   "cell_type": "code",
   "execution_count": null,
   "metadata": {
    "id": "ehBvBh1LrZfO"
   },
   "outputs": [],
   "source": [
    "# csv file\n",
    "from parse_data import parse_to_csv\n",
    "parse_to_csv(\"./LibriSpeech/dev-clean-2\")\n",
    "!head data.csv"
   ]
  },
  {
   "cell_type": "markdown",
   "metadata": {
    "id": "P9YLGDk0XdG-"
   },
   "source": [
    "Unlike other toolkits which have a rather strict requirements on how a dataset must be specified to be able to process it **we do not impose any restriction on JSON and CSV syntax except the requirement for a different unique ID string for every single example**.\n",
    "\n",
    "This means that the JSON file must contain a dictionary whose keys are the example ids and each entry of the dictionary contains metadata for that example. Instead, CSV files, must have at least one column called id.\n",
    "\n",
    "These are the only strict requirements to guarantee that the JSON and CSV dataset description files will work with SpeechBrain data IO pipeline.\n",
    "\n",
    "Users are given great flexibility in how to represent their datasets in the JSON and CSV files as their goals and applications could be different: speech separation, enhancement, ASR, diarization, VAD et cetera.\n",
    "\n",
    "This because in SpeechBrain we aim at many different tasks and datasets.\n",
    "\n",
    "- **Every Dataset is unique**, it can be single channel or multichannel, it can provide different metadata such as speaker IDs, or speaker positions or even\n",
    "multi-modal data such as audio and video.\n",
    "\n",
    "- **Every task is unique**, the annotation used in this example is suitable for applications like ASR and Speaker Recognition. But for diarization, for example, the user would like to have also the start and stop (in seconds, frames whatever !) of each uttererance too.\n",
    "\n",
    "This also allows to keep the annotation very simple and focused to the particular task with only the necessary information for the current application, instead of having a cumbersone do-it-all annotation.\n",
    "\n",
    "\n",
    "**TIP**\n",
    "\n",
    "It is useful, when building the parsing script, to have a `length` or `duration` for each example containing the length of the example in seconds or samples or even frames. This allows for subsequent operations such as filtering examples that are too long (to avoid OOM issues) or sorting them for faster training. Regarding CSV files if a `duration` column is specified it is automatically cast to float when a DynamicItemDataset is built from the CSV.\n",
    "\n",
    "\n"
   ]
  },
  {
   "cell_type": "markdown",
   "metadata": {
    "id": "frGoZYqCrb3A"
   },
   "source": [
    "As mentioned, **these files must be produced by a suitable parsing script**, which is provided in our recipes and depends on the dataset and the task.\n",
    "However if one wish to use its own custom dataset a parsing script must be written in order to produce *JSON* or CSV files describing the data.\n",
    "\n",
    "**NOTE**\n",
    "\n",
    "A separate file for each split (training, validation/development, test) must be provided."
   ]
  },
  {
   "cell_type": "markdown",
   "metadata": {
    "id": "MaRLh0xpT88B"
   },
   "source": [
    "On the other hand, creating those files should be rather easy for most datasets as Python offers many tools for manipulating CSV and JSON files (such as [pandas](https://pandas.pydata.org/)). In fact parsing the data to JSON, for example, can be done in few lines of codes:"
   ]
  },
  {
   "cell_type": "code",
   "execution_count": null,
   "metadata": {
    "id": "N-UPJi6v93w_"
   },
   "outputs": [],
   "source": [
    "import glob\n",
    "import json\n",
    "import os\n",
    "import torchaudio\n",
    "from pathlib import Path\n",
    "\n",
    "dev_clean_root = \"./LibriSpeech/dev-clean-2\"\n",
    "flac_files = glob.glob(os.path.join(dev_clean_root, \"**/*.flac\"), recursive=True)\n",
    "print(\"tot flac audio files {}\".format(len(flac_files)))\n",
    "\n",
    "flac_files[0]\n",
    "# in this dataset files names are spk_id-chapter_id-utterance_id.flac\n",
    "text_files = glob.glob(os.path.join(dev_clean_root, \"**/*.txt\"), recursive=True)\n",
    "# we build a dictionary with words for each utterance\n",
    "words_dict = {}\n",
    "for txtf in text_files:\n",
    "  with open(txtf, \"r\") as f:\n",
    "    lines = f.readlines()\n",
    "  for l in lines:\n",
    "    l = l.strip(\"\\n\")\n",
    "    utt_id = l.split(\" \")[0]\n",
    "    words = \" \".join(l.split(\" \")[1:])\n",
    "    words_dict[utt_id] = words\n",
    "\n",
    "# we now build JSON examples\n",
    "\n",
    "examples = {}\n",
    "for utterance in flac_files:\n",
    "  utt_id = Path(utterance).stem\n",
    "  examples[utt_id] = {\"file_path\": utterance,\n",
    "                      \"words\": words_dict[utt_id],\n",
    "                      \"spkID\": utt_id.split(\"-\")[0],\n",
    "                      \"length\": torchaudio.info(utterance).num_frames}\n",
    "\n",
    "\n",
    "with open(\"data.json\", \"w\") as f:\n",
    "  json.dump(examples, f, indent=4)\n",
    "\n",
    "print(examples[list(examples.keys())[0]])"
   ]
  },
  {
   "cell_type": "markdown",
   "metadata": {
    "id": "fIHCwY-BunQ1"
   },
   "source": [
    "### DynamicItemDataset\n",
    "\n",
    "**DynamicItemDataset** is at the heart of SpeechBrain data pipeline and is built on top of `torch.utils.data.Dataset`.\n",
    "\n",
    "As the name implies it allows the **dynamical creation of new \"objects\"** from the entries specified in the JSON (or CSV) dataset annotation."
   ]
  },
  {
   "cell_type": "code",
   "execution_count": null,
   "metadata": {
    "id": "QOjqauY9i6Ll"
   },
   "outputs": [],
   "source": [
    "#`creating a DynamiItemDataset instance from JSON or CSV annotation is immediate\n",
    "from speechbrain.dataio.dataset import DynamicItemDataset\n",
    "\n",
    "dataset = DynamicItemDataset.from_json(\"data.json\") # or equivalently, DynamicItemDataset.from_csv(\"data.csv\")"
   ]
  },
  {
   "cell_type": "markdown",
   "metadata": {
    "id": "340CyO9Pj965"
   },
   "source": [
    "What does it mean dynamical creation of \"objects\" from the entries specified in the data.json annotation ?"
   ]
  },
  {
   "cell_type": "code",
   "execution_count": null,
   "metadata": {
    "id": "epqTBMW6j4SB"
   },
   "outputs": [],
   "source": [
    "dataset[0]"
   ]
  },
  {
   "cell_type": "markdown",
   "metadata": {
    "id": "Na1uMIKokMXs"
   },
   "source": [
    "As it is now, this `Dataset` object does not return anything.\n",
    "\n",
    "Dynamical creation means exactly that, **items the user wants to be returned must be specified** in some way by the user. These items can depend on the entries specified in the data.json examples:"
   ]
  },
  {
   "cell_type": "code",
   "execution_count": null,
   "metadata": {
    "id": "5RPpu88_k_b2"
   },
   "outputs": [],
   "source": [
    "print(examples[list(examples.keys())[0]].keys())"
   ]
  },
  {
   "cell_type": "markdown",
   "metadata": {
    "id": "CETiI0IglI3L"
   },
   "source": [
    "Namely from `['file_path', 'words', 'spkID', 'length']`.\n",
    "\n",
    "For example one \"dynamic item\" could be the audio signal which will depend on the `'file_path'` key. Another one could be the `spkID` encoded to an integer value if one wishes to perform speaker recognition or, for ASR, it could be the words encoded by a tokenizer.\n",
    "\n",
    "To obtain these \"items\" one should specify in some way a function which, when applied to the corresponding key, will provide the new item.\n",
    "\n",
    "E.g. a function which reads the audio when applied to `'file_path'` key. in order to make the `Dataset` class return, for each example. the audio signal.\n"
   ]
  },
  {
   "cell_type": "markdown",
   "metadata": {
    "id": "UMXJkQi5usJg"
   },
   "source": [
    "### Dynamic Item Pipelines (DIPs)\n",
    "\n",
    "This task is handled by specifying **Dynamic Item Pipelines** for each dynamic item the user wants to get from the dataset. The user can specify an arbitrary number of pipelines.\n",
    "\n",
    "For example, regarding the audio signal:"
   ]
  },
  {
   "cell_type": "code",
   "execution_count": null,
   "metadata": {
    "id": "IuEewb4yoB-g"
   },
   "outputs": [],
   "source": [
    "@speechbrain.utils.data_pipeline.takes(\"file_path\")\n",
    "@speechbrain.utils.data_pipeline.provides(\"signal\")\n",
    "def audio_pipeline(file_path):\n",
    "      sig = speechbrain.dataio.dataio.read_audio(file_path)\n",
    "      return sig"
   ]
  },
  {
   "cell_type": "markdown",
   "metadata": {
    "id": "sYELrX1GocuG"
   },
   "source": [
    "We specify a function that takes the `file_path` for each example and provides a new item called `sig` which is a tensor containing the audio.\n",
    "\n",
    "\n",
    "We use here some pre-built function in `speechbrain.dataio.dataio` for reading audio. But the user can also use its own.\n",
    "\n",
    "Once specified, the pipeline must be added to the `DynamicItemDataset` object and, following, the outputs requested by the user should be specified with the `set_output_keys` method.\n",
    "We request two items in the output: a new one `sig` and also `file_path` which is in the JSON annotation."
   ]
  },
  {
   "cell_type": "code",
   "execution_count": null,
   "metadata": {
    "id": "IjfzuoFxowKF"
   },
   "outputs": [],
   "source": [
    "dataset.add_dynamic_item(audio_pipeline)\n",
    "dataset.set_output_keys([\"signal\", \"file_path\"],\n",
    "    )\n",
    "dataset[0]"
   ]
  },
  {
   "cell_type": "markdown",
   "metadata": {
    "id": "1_qZ_CYHQMdt"
   },
   "source": [
    "Note that a more compact syntax can be used for applying a simple function like reading the audio file."
   ]
  },
  {
   "cell_type": "code",
   "execution_count": null,
   "metadata": {
    "id": "d3ACymf1JQsP"
   },
   "outputs": [],
   "source": [
    "dataset.add_dynamic_item(speechbrain.dataio.dataio.read_audio, takes=\"file_path\", provides=\"signal\")\n",
    "dataset.set_output_keys([\"id\", \"signal\", \"words\"])\n",
    "dataset[0]"
   ]
  },
  {
   "cell_type": "markdown",
   "metadata": {
    "id": "ngjASy73p4Pc"
   },
   "source": [
    "Now the dataset object will return this new specified item \"sig\" as well as the `file_path` as specified in the JSON:  "
   ]
  },
  {
   "cell_type": "code",
   "execution_count": null,
   "metadata": {
    "id": "2nnvmJ_xqArq"
   },
   "outputs": [],
   "source": [
    "print(dataset[0])\n",
    "import matplotlib.pyplot as plt\n",
    "plt.figure(1)\n",
    "plt.title(\"Sig item\")\n",
    "plt.plot(dataset[0][\"signal\"])\n",
    "plt.show()"
   ]
  },
  {
   "cell_type": "markdown",
   "metadata": {
    "id": "oL0MnsAyqet_"
   },
   "source": [
    "It can be seen that the `DynamicItemDataset` object returns the two specified items from the JSON annotation.\n",
    "\n",
    "The `file_path` item, is taken directly, as it is, from the JSON annotation without further processing.\n",
    "The other one is instead a new item derived from `file_path` item with the pipeline we have defined before."
   ]
  },
  {
   "cell_type": "markdown",
   "metadata": {
    "id": "vk3vEoWHroqE"
   },
   "source": [
    "There is no constraints in what can be done in the pipelines: as said the user can also use its own functions:"
   ]
  },
  {
   "cell_type": "code",
   "execution_count": null,
   "metadata": {
    "id": "EKIlpL3zrnac"
   },
   "outputs": [],
   "source": [
    "!pip install soundfile\n",
    "import soundfile as sf\n",
    "@speechbrain.utils.data_pipeline.takes(\"file_path\")\n",
    "@speechbrain.utils.data_pipeline.provides(\"sig_numpy\")\n",
    "def audio_pipeline_numpy(file_path):\n",
    "      sig, _ = sf.read(file_path, dtype=\"float32\")\n",
    "      return sig"
   ]
  },
  {
   "cell_type": "code",
   "execution_count": null,
   "metadata": {
    "id": "Q89JrIT2t4IQ"
   },
   "outputs": [],
   "source": [
    "speechbrain.dataio.dataset.add_dynamic_item([dataset], audio_pipeline_numpy)\n",
    "speechbrain.dataio.dataset.set_output_keys(\n",
    "        [dataset], [\"signal\", \"file_path\", \"sig_numpy\"],\n",
    "    )\n",
    "dataset[0]"
   ]
  },
  {
   "cell_type": "markdown",
   "metadata": {
    "id": "PkBvDF3IuFG_"
   },
   "source": [
    "The dataset object now also returns the signal as read with the soundfile library instead of only the one with read with the built-in speechbrain function which is based on torchaudio."
   ]
  },
  {
   "cell_type": "markdown",
   "metadata": {
    "id": "j9W6Jseaua_m"
   },
   "source": [
    "**Multiple outputs can be specified by one pipeline by using python generators syntax**.\n",
    "\n",
    "In the example below three outputs are specified, the last two depend directly from the first one (sig) and are transformed version of this latter: with a random gain factor `rand_gain_sig` and with a constant offset `offset_sig`."
   ]
  },
  {
   "cell_type": "code",
   "execution_count": null,
   "metadata": {
    "id": "uiA8ccBevMMC"
   },
   "outputs": [],
   "source": [
    "import random\n",
    "@speechbrain.utils.data_pipeline.takes(\"file_path\")\n",
    "@speechbrain.utils.data_pipeline.provides(\"sig\", \"rand_gain_sig\", \"offset_sig\")\n",
    "def audio_pipeline(file_path):\n",
    "      sig = speechbrain.dataio.dataio.read_audio(file_path)\n",
    "      yield sig\n",
    "      rand_gain_sig = random.random()*sig\n",
    "      yield rand_gain_sig\n",
    "      offset_sig = sig + 1\n",
    "      yield offset_sig\n",
    "\n",
    "\n",
    "speechbrain.dataio.dataset.add_dynamic_item([dataset], audio_pipeline)\n",
    "speechbrain.dataio.dataset.set_output_keys(\n",
    "        [dataset], [\"sig\", \"rand_gain_sig\", \"offset_sig\"],\n",
    "    )\n",
    "\n",
    "print(dataset[0])\n",
    "import matplotlib.pyplot as plt\n",
    "plt.figure(1)\n",
    "plt.title(\"Sig item\")\n",
    "plt.plot(dataset[0][\"sig\"])\n",
    "\n",
    "plt.title(\"Sig item with random gain\")\n",
    "plt.plot(dataset[0][\"rand_gain_sig\"])\n",
    "\n",
    "plt.title(\"Sig item offset\")\n",
    "plt.plot(dataset[0][\"offset_sig\"])\n",
    "plt.legend([\"sig\", \"rand_gain_sig\", \"offset_sig\"])\n",
    "plt.show()"
   ]
  },
  {
   "cell_type": "markdown",
   "metadata": {
    "id": "7tzJSmbT7kT_"
   },
   "source": [
    "This toy example demonstrates that multiple items can be fetched from the same pipeline and dynamically created items can depend on other dynamically created items (`offset_sig` depends on `sig`)."
   ]
  },
  {
   "cell_type": "markdown",
   "metadata": {
    "id": "et85McvM9Lhu"
   },
   "source": [
    "But dynamic items can also depend on dynamically created items from another, pre-specified pipeline:\n"
   ]
  },
  {
   "cell_type": "code",
   "execution_count": null,
   "metadata": {
    "id": "f0EYYxh670AI"
   },
   "outputs": [],
   "source": [
    "@speechbrain.utils.data_pipeline.takes(\"sig\")\n",
    "@speechbrain.utils.data_pipeline.provides(\"sig_as_python_list\")\n",
    "def to_list_pipeline(sig):\n",
    "      yield sig.numpy().tolist()\n",
    "\n",
    "\n",
    "speechbrain.dataio.dataset.add_dynamic_item([dataset], to_list_pipeline)\n",
    "speechbrain.dataio.dataset.set_output_keys(\n",
    "        [dataset], [\"sig_as_python_list\"],\n",
    "    )\n",
    "dataset[0][\"sig_as_python_list\"][:10]"
   ]
  },
  {
   "cell_type": "markdown",
   "metadata": {
    "id": "HcTAPOk_-mOP"
   },
   "source": [
    "In this example we have defined a new pipeline which takes `sig` and turns it from `torch.tensor` to a python list obtaining a new dynamic item `sig_as_python_list`.\n",
    "\n",
    "\n",
    "**NOTE**\n",
    "\n",
    "\n",
    "Since we are requesting in the output only `sig_as_python_list` which depends itself from `sig`, dynamic items `offset_sig` and `rand_gain_sig` are not computed at all. Only `sig` is computed implicitly as it is necessary to obtain `sig_as_python_list`.\n",
    "\n",
    "\n",
    "In fact under the hood `DynamicItemDataset` finds a suitable evaluation\n",
    "order for the requested items by constructing a **computational graph** defined by the **pipelines**.\n",
    "\n",
    "**An error is returned if any circular dependency is present between the pipelines**.\n"
   ]
  },
  {
   "cell_type": "markdown",
   "metadata": {
    "id": "eFLiGm6xh3tZ"
   },
   "source": [
    "A **DIP** can also take multiple items/annotation keys in input, the syntax is the same as for the output items:"
   ]
  },
  {
   "cell_type": "code",
   "execution_count": null,
   "metadata": {
    "id": "HH9WhV1ih28l"
   },
   "outputs": [],
   "source": [
    "@speechbrain.utils.data_pipeline.takes(\"file_path\", \"spkID\")\n",
    "@speechbrain.utils.data_pipeline.provides(\"sig\", \"spkidstring\")\n",
    "def multiple_dip(file_path, spkID):\n",
    "      sig = speechbrain.dataio.dataio.read_audio(file_path)\n",
    "      yield sig\n",
    "      yield spkID\n",
    "\n",
    "speechbrain.dataio.dataset.add_dynamic_item([dataset], multiple_dip)\n",
    "speechbrain.dataio.dataset.set_output_keys(\n",
    "        [dataset], [\"sig\", \"spkidstring\"],\n",
    "    )\n",
    "dataset[0]"
   ]
  },
  {
   "cell_type": "code",
   "execution_count": null,
   "metadata": {
    "id": "YPN3AXaVjQka"
   },
   "outputs": [],
   "source": [
    "@speechbrain.utils.data_pipeline.takes(\"file_path\", \"spkID\")\n",
    "@speechbrain.utils.data_pipeline.provides(\"sig\")\n",
    "def multiple_dip(file_path, spkID):\n",
    "      sig = speechbrain.dataio.dataio.read_audio(file_path)\n",
    "      yield sig, spkID\n",
    "\n",
    "\n",
    "speechbrain.dataio.dataset.add_dynamic_item([dataset], multiple_dip)\n",
    "speechbrain.dataio.dataset.set_output_keys(\n",
    "        [dataset], [\"sig\"],\n",
    "    )\n",
    "dataset[0] # sig now is a tuple"
   ]
  },
  {
   "cell_type": "markdown",
   "metadata": {
    "id": "uXKHONsvTDTs"
   },
   "source": [
    "And also the same **DIP** can be used in multiple datasets.\n",
    "E.g. you want usually the read audio **DIP** to be the same for validation, training and test:"
   ]
  },
  {
   "cell_type": "code",
   "execution_count": null,
   "metadata": {
    "id": "wGLev2Q1U534"
   },
   "outputs": [],
   "source": [
    "validation = DynamicItemDataset.from_json(\"data.json\")\n",
    "train = DynamicItemDataset.from_json(\"data.json\")\n",
    "\n",
    "speechbrain.dataio.dataset.add_dynamic_item([validation, train], speechbrain.dataio.dataio.read_audio, takes=\"file_path\", provides=\"signal\")\n",
    "speechbrain.dataio.dataset.set_output_keys([validation, train], [\"id\", \"signal\", \"words\"])\n",
    "validation[0]\n"
   ]
  },
  {
   "cell_type": "code",
   "execution_count": null,
   "metadata": {
    "id": "JVrWPCG1VZ_t"
   },
   "outputs": [],
   "source": [
    "train[0]"
   ]
  },
  {
   "cell_type": "markdown",
   "metadata": {
    "id": "WZJnmyiou6cK"
   },
   "source": [
    "### CategoricalEncoder"
   ]
  },
  {
   "cell_type": "markdown",
   "metadata": {
    "id": "18cYd9eT7iuZ"
   },
   "source": [
    "SpeechBrain `dataio` provides a `CategoricalEncoder` class for encoding labels which belongs to a discrete set: e.g. for speaker recognition or any other multi-class classification problem.\n",
    "\n",
    "Given a collection of hashables (e.g. strings) it encodes\n",
    "    every unique item to an integer value: `[\"spk0\", \"spk1\"]` --> `[0, 1]`\n",
    "\n",
    "\n",
    "  Internally the correspondence between each label to its index is handled by\n",
    "  two dictionaries: `lab2ind` and `ind2lab`.\n",
    "\n",
    "It is built to tightly integrate with `DynamicItemDataset` and `dataIO pipelines`.\n",
    "\n",
    "For example one can obtain the encoding for speaker identities (`spkID` in JSON) from our Mini-LibriSpeech dataset by creating an instance of CategoricalEncoder and fitting it to the dataset object."
   ]
  },
  {
   "cell_type": "code",
   "execution_count": null,
   "metadata": {
    "id": "oAKvZSz5DX-N"
   },
   "outputs": [],
   "source": [
    "from speechbrain.dataio.encoder import CategoricalEncoder\n",
    "spk_id_encoder = CategoricalEncoder()"
   ]
  },
  {
   "cell_type": "markdown",
   "metadata": {
    "id": "7ICJwSyUDyHL"
   },
   "source": [
    "Since `DynamicItemDataset` right now does not return spkID we have firstly to set its output to return that dynamic item:"
   ]
  },
  {
   "cell_type": "code",
   "execution_count": null,
   "metadata": {
    "id": "OYIqLGDDEBFF"
   },
   "outputs": [],
   "source": [
    "speechbrain.dataio.dataset.set_output_keys(\n",
    "        [dataset], [\"spkID\"],\n",
    "    )\n",
    "# sig is a torch.tensor with audio signal as specified before.\n",
    "# REMEMBER: no need to specify the pipeline for spkID as we can read directly the value from the JSON.\n",
    "dataset[0]"
   ]
  },
  {
   "cell_type": "markdown",
   "metadata": {
    "id": "wqIDYxTcEg-s"
   },
   "source": [
    "The speaker identity `spkID` is a string.\n",
    "\n",
    "Note that in librispeech it is a string containing a unique integer so one can argue that performing the encoding here is pointless as casting to integer will suffice.\n",
    "\n",
    "However, it could happen that it is not an unique integer but an unique string like `spk1`, `spk2` et cetera.\n",
    "\n",
    "`spk_id_encoder` can be used for this purpose. We fit the encoder to the dataset and specify which *dynamic item* we want to encode:"
   ]
  },
  {
   "cell_type": "code",
   "execution_count": null,
   "metadata": {
    "id": "0JQxKP-9F2-B"
   },
   "outputs": [],
   "source": [
    "spk_id_encoder.update_from_didataset(dataset, \"spkID\")\n"
   ]
  },
  {
   "cell_type": "markdown",
   "metadata": {
    "id": "83_QlLNRXEPl"
   },
   "source": [
    "**NOTE**\n",
    "\n",
    "\n",
    "This will iterate over dataset fetch for each example spkID and construct\n",
    "internal dicts lab2ind and ind2lab.\n",
    "\n",
    "Because of this, it is important to call `dataset.set_output_keys` avoiding\n",
    "computationally costly dynamic items (e.g. can happen if the pipeline does data augmentation) before fitting the encoder.\n",
    "\n",
    "Setting only the key on which the encoder will be fitted is a good approach."
   ]
  },
  {
   "cell_type": "markdown",
   "metadata": {
    "id": "8U0Qy4DuX9BO"
   },
   "source": [
    "We can look now at how much unique speaker ids there are in the dataset by using `__len__`"
   ]
  },
  {
   "cell_type": "code",
   "execution_count": null,
   "metadata": {
    "id": "tz-Ntq0zF-49"
   },
   "outputs": [],
   "source": [
    "len(spk_id_encoder)"
   ]
  },
  {
   "cell_type": "markdown",
   "metadata": {
    "id": "5MIcC0sAYBEe"
   },
   "source": [
    "We can also take a look to the encoder internal dictionaries `lab2ind` ans `ind2lab` which contains the mappings between the labels (speaker ids in this case)  and corresponding integers encodings:"
   ]
  },
  {
   "cell_type": "code",
   "execution_count": null,
   "metadata": {
    "id": "YoLjI4HtGIgC"
   },
   "outputs": [],
   "source": [
    " spk_id_encoder.lab2ind\n",
    "# contains label --> integer encoding"
   ]
  },
  {
   "cell_type": "code",
   "execution_count": null,
   "metadata": {
    "id": "Jm23A0dCIuSG"
   },
   "outputs": [],
   "source": [
    "spk_id_encoder.ind2lab # contains integer encoding --> label"
   ]
  },
  {
   "cell_type": "markdown",
   "metadata": {
    "id": "DZEqe2d1Vthc"
   },
   "source": [
    "Once fitted the `CategoricalEncoder` object can be used in a suitably defined pipeline to encode the spkID key and return the encoded value:"
   ]
  },
  {
   "cell_type": "code",
   "execution_count": null,
   "metadata": {
    "id": "tX43vtVTyuCy"
   },
   "outputs": [],
   "source": [
    "@speechbrain.utils.data_pipeline.takes(\"spkID\")\n",
    "@speechbrain.utils.data_pipeline.provides(\"spkid_encoded\")\n",
    "def spk_id_encoding(spkid):\n",
    "      return torch.LongTensor([spk_id_encoder.encode_label(spkid)])\n"
   ]
  },
  {
   "cell_type": "code",
   "execution_count": null,
   "metadata": {
    "id": "y1A41rDQyy-C"
   },
   "outputs": [],
   "source": [
    "speechbrain.dataio.dataset.add_dynamic_item([dataset], spk_id_encoding)\n",
    "speechbrain.dataio.dataset.set_output_keys(\n",
    "        [dataset], [\"spkid_encoded\"],\n",
    "    )\n",
    "\n",
    "dataset[100]"
   ]
  },
  {
   "cell_type": "markdown",
   "metadata": {
    "id": "knC4t9fKvHHU"
   },
   "source": [
    "### PaddedBatch and SaveableDataLoader\n",
    "\n",
    "SpeechBrain offers a way to conveniently pad right automatically tensors of different length on multiple dimensions.\n",
    "This is achieved using the `PaddedBatch` class defined in `speechbrain.dataio.batch`.\n",
    "\n",
    "`PaddedBatch` is both a `collate_fn` and a batch object.\n",
    "\n",
    "When a `torch.utils.data.Dataset` (and thus also a `DynamicItemDataset`) is passed to the `Brain` class `PaddedBatch` is used as the default collate function `collate_fn` and examples are automatically padded together.\n",
    "\n",
    "As the default DataLoader the Brain class instantiates, a SpeechBrain custom DataLoader: `speechbrain.dataio.dataloader.SaveableDataLoader`.\n",
    "\n",
    "\n",
    "This DataLoader is identical to the plain one except that it allows for intra-epoch saving. So if for some reason training stops in the middle of an epoch it is possible to resume from exactly that step. See the [Checkpointing Tutorial](https://speechbrain.readthedocs.io/en/latest/tutorials/basics/checkpointing.html).\n",
    "The default `collate_fn` for this DataLoader is `PaddedBatch`.\n"
   ]
  },
  {
   "cell_type": "code",
   "execution_count": null,
   "metadata": {
    "id": "NtsZ0UA6vLfc"
   },
   "outputs": [],
   "source": [
    "from speechbrain.dataio.dataloader import SaveableDataLoader\n",
    "from speechbrain.dataio.batch import PaddedBatch\n",
    "\n",
    "speechbrain.dataio.dataset.set_output_keys(\n",
    "        [dataset], [\"id\", \"spkid_encoded\", \"signal\"],\n",
    "    )"
   ]
  },
  {
   "cell_type": "markdown",
   "metadata": {
    "id": "Ljw1yIG3xRPT"
   },
   "source": [
    "We set as the dynamic items we are requesting `sig` which is the audio tensor\n",
    "and the speaker id encoded with the `CategoricalEncoder` object (`spkid_encoded`) defined before and the example `id`."
   ]
  },
  {
   "cell_type": "code",
   "execution_count": null,
   "metadata": {
    "id": "puBQt7QRwmnZ"
   },
   "outputs": [],
   "source": [
    "dataloader = SaveableDataLoader(dataset, batch_size=2, collate_fn=PaddedBatch)"
   ]
  },
  {
   "cell_type": "code",
   "execution_count": null,
   "metadata": {
    "id": "ccIqOHQkxEmD"
   },
   "outputs": [],
   "source": [
    "batch_obj = next(iter(dataloader)) # let's look at the batch obj"
   ]
  },
  {
   "cell_type": "code",
   "execution_count": null,
   "metadata": {
    "id": "cpFw6pycxJNC"
   },
   "outputs": [],
   "source": [
    "batch_obj # the dataloader returns an PaddedBatch obj now\n",
    "type(batch_obj)"
   ]
  },
  {
   "cell_type": "markdown",
   "metadata": {
    "id": "8IZb33Bt0L9d"
   },
   "source": [
    "Dynamic Items can be accessed in the batch object by using `dict` syntax:"
   ]
  },
  {
   "cell_type": "code",
   "execution_count": null,
   "metadata": {
    "id": "dB42KZ3AxLth"
   },
   "outputs": [],
   "source": [
    "batch_obj[\"spkid_encoded\"]"
   ]
  },
  {
   "cell_type": "code",
   "execution_count": null,
   "metadata": {
    "id": "ZKJlXaW10XRg"
   },
   "outputs": [],
   "source": [
    "batch_obj[\"signal\"]"
   ]
  },
  {
   "cell_type": "code",
   "execution_count": null,
   "metadata": {
    "id": "gEG6g0sc0ZXn"
   },
   "outputs": [],
   "source": [
    "batch_obj[\"id\"] # example ids in this batch useful for debugging"
   ]
  },
  {
   "cell_type": "markdown",
   "metadata": {
    "id": "UF3k_9060g4y"
   },
   "source": [
    "As said, all elements in PaddedBatch which are `torch.Tensors` are padded together by adding zeros to the right.\n",
    "When these elements are accessed a [namedtuple](https://docs.python.org/3/library/collections.html#collections.namedtuple) is returned: the actual padded tensors and a `length` tensor."
   ]
  },
  {
   "cell_type": "code",
   "execution_count": null,
   "metadata": {
    "id": "G2pFsSa702_x"
   },
   "outputs": [],
   "source": [
    "wav_data, length = batch_obj[\"signal\"]"
   ]
  },
  {
   "cell_type": "markdown",
   "metadata": {
    "id": "GhPDU20bcvNA"
   },
   "source": [
    "As it is a [namedtuple](https://docs.python.org/3/library/collections.html#collections.namedtuple) the two items *length* and *data* are also accessible as attributes:"
   ]
  },
  {
   "cell_type": "code",
   "execution_count": null,
   "metadata": {
    "id": "glL_x9sqb8vO"
   },
   "outputs": [],
   "source": [
    "lengths = batch_obj[\"signal\"].lengths\n",
    "wav_data = batch_obj[\"signal\"].data"
   ]
  },
  {
   "cell_type": "code",
   "execution_count": null,
   "metadata": {
    "id": "YDzqHldc0bBe"
   },
   "outputs": [],
   "source": [
    "lengths"
   ]
  },
  {
   "cell_type": "markdown",
   "metadata": {
    "id": "zSbkh9tJ08j2"
   },
   "source": [
    "This length tensor contains the relative true length of each sequence.\n",
    "In this example it means that the second example in the batch has not been padded (relative length == 1) while the first instead has been padded to more twice its length.\n",
    "\n",
    "The use of relative lengths instead of absolute indexes guarantees that that these values do not change even after feature extraction: the relative true length remains the same even after STFT whatever is the window.\n",
    "\n",
    "The absolute indexes are easy to obtain:"
   ]
  },
  {
   "cell_type": "code",
   "execution_count": null,
   "metadata": {
    "id": "tx8HUi2U1Tsu"
   },
   "outputs": [],
   "source": [
    "abs_lens = (lengths*wav_data.shape[1]).long()\n",
    "abs_lens"
   ]
  },
  {
   "cell_type": "code",
   "execution_count": null,
   "metadata": {
    "id": "KLClRlo-1xjg"
   },
   "outputs": [],
   "source": [
    "wav_data[1][:abs_lens[1]] # no zeros"
   ]
  },
  {
   "cell_type": "code",
   "execution_count": null,
   "metadata": {
    "id": "NmH1C4Dx2Fyt"
   },
   "outputs": [],
   "source": [
    "wav_data[1][abs_lens[1]:] # zeros begins at abs_lens[0]"
   ]
  },
  {
   "cell_type": "markdown",
   "metadata": {
    "id": "BRIP5d4h2e2Y"
   },
   "source": [
    "The PaddedBatch object allows for conveniently moving all dynamic items which are` torch.Tensor` to the right device using to:"
   ]
  },
  {
   "cell_type": "code",
   "execution_count": null,
   "metadata": {
    "id": "gtn6h1hM2Xw2"
   },
   "outputs": [],
   "source": [
    "batch_obj = batch_obj.to(\"cpu\")"
   ]
  },
  {
   "cell_type": "markdown",
   "metadata": {
    "id": "IyZ84-4-20wn"
   },
   "source": [
    "Of course items which are not tensors such as `id` are not moved and are not padded. Instead they are simply returned as a list."
   ]
  },
  {
   "cell_type": "code",
   "execution_count": null,
   "metadata": {
    "id": "O8-4oUMw2xNd"
   },
   "outputs": [],
   "source": [
    "batch_obj[\"id\"]"
   ]
  },
  {
   "cell_type": "markdown",
   "metadata": {
    "id": "Vz09N7Zb3Iho"
   },
   "source": [
    "It is also possible to iterate over the examples of `PaddedBatch`:"
   ]
  },
  {
   "cell_type": "code",
   "execution_count": null,
   "metadata": {
    "id": "05vyHnk23H8X"
   },
   "outputs": [],
   "source": [
    "for ex in batch_obj:\n",
    "  print(ex)"
   ]
  },
  {
   "cell_type": "markdown",
   "metadata": {
    "id": "sXjZOd3O3tt1"
   },
   "source": [
    "And access a single example by its position:"
   ]
  },
  {
   "cell_type": "code",
   "execution_count": null,
   "metadata": {
    "id": "2mPr65B22_r8"
   },
   "outputs": [],
   "source": [
    "batch_obj.at_position(1)"
   ]
  },
  {
   "cell_type": "markdown",
   "metadata": {
    "id": "Ze8DO5Nj32eE"
   },
   "source": [
    "These methods can be conveniently used in the `Brain` class `compute_forward` and `compute_objectives` methods.\n",
    "As we have shown in the first example of this tutorial where a complete dataIO example was illustrated:\n",
    "\n",
    "\n",
    "\n",
    "\n",
    "```python\n",
    "def compute_forward(self, batch, stage):\n",
    "    audio, audio_len = batch[\"sig\"]\n",
    "    # the examples are automatically padded, audio_len contains the relative\n",
    "    # length of the original sequence.\n",
    "    return self.modules.model(audio.unsqueeze(1)).mean(-1).unsqueeze(-1)\n",
    "    \n",
    "  def compute_objectives(self, logits, batch, stage):\n",
    "    spk_ids, _ = batch[\"spkid_encoded\"]\n",
    "    return torch.nn.functional.cross_entropy(logits, spk_ids)\n",
    "```\n",
    "\n"
   ]
  },
  {
   "cell_type": "markdown",
   "metadata": {
    "id": "ufpPurk3bsvc"
   },
   "source": [
    "## Full Example: Training a simple Speaker Recognition System."
   ]
  },
  {
   "cell_type": "markdown",
   "metadata": {
    "id": "yKox1vfgbyey"
   },
   "source": [
    "Hereafter we show how the **DynamicItemDataset**, **DIPs** and **CategoricalEncoder** can be used to build a data pipeline for Speaker Recognition.\n",
    "\n",
    "In particular we have to:\n",
    "\n",
    "- read the audio\n",
    "- read the speaker ID from annotation and encode it to integer\n"
   ]
  },
  {
   "cell_type": "markdown",
   "metadata": {
    "id": "_0e4ksGZpErL"
   },
   "source": [
    "We firstly instantiate the dataset from that JSON annotation"
   ]
  },
  {
   "cell_type": "code",
   "execution_count": null,
   "metadata": {
    "id": "9RKlcn6JpKo9"
   },
   "outputs": [],
   "source": [
    "dataset = DynamicItemDataset.from_json(\"data.json\")"
   ]
  },
  {
   "cell_type": "markdown",
   "metadata": {
    "id": "KdI7Uakdi1kh"
   },
   "source": [
    "Then fit the **CategoricalEncoder** to speaker IDs (`spkID`) in the annotation."
   ]
  },
  {
   "cell_type": "code",
   "execution_count": null,
   "metadata": {
    "id": "4dLTFQyPi0yk"
   },
   "outputs": [],
   "source": [
    "spk_id_encoder = CategoricalEncoder()\n",
    "spk_id_encoder.update_from_didataset(dataset, \"spkID\")"
   ]
  },
  {
   "cell_type": "markdown",
   "metadata": {
    "id": "aM2U403ejF3b"
   },
   "source": [
    "We add the **DIP** which encodes `spkID`"
   ]
  },
  {
   "cell_type": "code",
   "execution_count": null,
   "metadata": {
    "id": "IRWERFtjjFEF"
   },
   "outputs": [],
   "source": [
    "dataset.add_dynamic_item(spk_id_encoder.encode_label_torch, takes=\"spkID\", provides=\"spk_encoded\")\n"
   ]
  },
  {
   "cell_type": "markdown",
   "metadata": {
    "id": "2PNpmwVZjPLn"
   },
   "source": [
    "We add the **DIP** for reading the audio\n"
   ]
  },
  {
   "cell_type": "code",
   "execution_count": null,
   "metadata": {
    "id": "L4ccm3_KjSOF"
   },
   "outputs": [],
   "source": [
    "dataset.add_dynamic_item(speechbrain.dataio.dataio.read_audio, takes=\"file_path\", provides=\"signal\")\n"
   ]
  },
  {
   "cell_type": "markdown",
   "metadata": {
    "id": "0_oJNpxkpgqF"
   },
   "source": [
    "and set the outputs of the dataset we want to access in training loop"
   ]
  },
  {
   "cell_type": "code",
   "execution_count": null,
   "metadata": {
    "id": "sahSr0yJpkhY"
   },
   "outputs": [],
   "source": [
    "dataset.set_output_keys([\"id\", \"signal\", \"spk_encoded\"])"
   ]
  },
  {
   "cell_type": "markdown",
   "metadata": {
    "id": "Ovhe-jc8jWzh"
   },
   "source": [
    "We sort the dataset based on length to speed up training so that we minimize in batches the amount of padded elements."
   ]
  },
  {
   "cell_type": "code",
   "execution_count": null,
   "metadata": {
    "id": "jG36aYVvjWB7"
   },
   "outputs": [],
   "source": [
    "sorted_data = dataset.filtered_sorted(sort_key=\"length\")"
   ]
  },
  {
   "cell_type": "markdown",
   "metadata": {
    "id": "IPGrUCU5kNY3"
   },
   "source": [
    "We can train now a simple classifier, by passing the dataset object directly to the **Brain** class. The **Brain** class will automatically create a SaveableDataLoader with specified `train_loader_kwargs` and will be handling the padding for you."
   ]
  },
  {
   "cell_type": "code",
   "execution_count": null,
   "metadata": {
    "id": "OFFiFjaek8uN"
   },
   "outputs": [],
   "source": [
    "from speechbrain.lobes.features import MFCC, Fbank\n",
    "from speechbrain.nnet.losses import nll_loss\n",
    "\n",
    "\n",
    "class SimpleBrain(speechbrain.Brain):\n",
    "    def compute_forward(self, batch, stage):\n",
    "        example_batch = batch\n",
    "        x = self.modules.features(batch.signal.data)\n",
    "        x = self.modules.encoder(x)\n",
    "        x = self.modules.pooling(x, batch.signal.lengths)\n",
    "        x = self.modules.to_output(x)\n",
    "        return self.modules.softmax(x)\n",
    "\n",
    "    def compute_objectives(self, logits, batch, stage):\n",
    "        return nll_loss(logits, batch.spk_encoded.data)\n",
    "\n",
    "modules = {\"features\": Fbank(left_frames=1, right_frames=1),\n",
    "          \"encoder\": torch.nn.Sequential(torch.nn.Linear(40, 256),\n",
    "                                       torch.nn.ReLU()),\n",
    "          \"pooling\": speechbrain.nnet.pooling.StatisticsPooling(),\n",
    "          \"to_output\": torch.nn.Linear(512, len(spk_id_encoder)),\n",
    "          \"softmax\": speechbrain.nnet.activations.Softmax(apply_log=True)}\n",
    "brain = SimpleBrain(modules, opt_class=lambda x: torch.optim.SGD(x, 0.01))\n",
    "brain.fit(range(1), train_set=sorted_data,\n",
    "          train_loader_kwargs={\"batch_size\": 16, \"drop_last\":True})"
   ]
  },
  {
   "cell_type": "markdown",
   "metadata": {
    "id": "lvCQK0beq8Fc"
   },
   "source": [
    "## Acknowledgements\n",
    "\n",
    "\n",
    "\n",
    "*   Many thanks to Nasser Benabderrazik ([lenassero](https://github.com/lenassero)) who helped improving this Tutorial.\n",
    "\n",
    "\n",
    "\n"
   ]
  },
  {
   "cell_type": "markdown",
   "metadata": {
    "id": "sb_auto_footer",
    "tags": [
     "sb_auto_footer"
    ]
   },
   "source": [
    "## Citing SpeechBrain\n",
    "\n",
    "If you use SpeechBrain in your research or business, please cite it using the following BibTeX entry:\n",
    "\n",
    "```bibtex\n",
    "@misc{speechbrainV1,\n",
    "  title={Open-Source Conversational AI with {SpeechBrain} 1.0},\n",
    "  author={Mirco Ravanelli and Titouan Parcollet and Adel Moumen and Sylvain de Langen and Cem Subakan and Peter Plantinga and Yingzhi Wang and Pooneh Mousavi and Luca Della Libera and Artem Ploujnikov and Francesco Paissan and Davide Borra and Salah Zaiem and Zeyu Zhao and Shucong Zhang and Georgios Karakasidis and Sung-Lin Yeh and Pierre Champion and Aku Rouhe and Rudolf Braun and Florian Mai and Juan Zuluaga-Gomez and Seyed Mahed Mousavi and Andreas Nautsch and Xuechen Liu and Sangeet Sagar and Jarod Duret and Salima Mdhaffar and Gaelle Laperriere and Mickael Rouvier and Renato De Mori and Yannick Esteve},\n",
    "  year={2024},\n",
    "  eprint={2407.00463},\n",
    "  archivePrefix={arXiv},\n",
    "  primaryClass={cs.LG},\n",
    "  url={https://arxiv.org/abs/2407.00463},\n",
    "}\n",
    "@misc{speechbrain,\n",
    "  title={{SpeechBrain}: A General-Purpose Speech Toolkit},\n",
    "  author={Mirco Ravanelli and Titouan Parcollet and Peter Plantinga and Aku Rouhe and Samuele Cornell and Loren Lugosch and Cem Subakan and Nauman Dawalatabad and Abdelwahab Heba and Jianyuan Zhong and Ju-Chieh Chou and Sung-Lin Yeh and Szu-Wei Fu and Chien-Feng Liao and Elena Rastorgueva and François Grondin and William Aris and Hwidong Na and Yan Gao and Renato De Mori and Yoshua Bengio},\n",
    "  year={2021},\n",
    "  eprint={2106.04624},\n",
    "  archivePrefix={arXiv},\n",
    "  primaryClass={eess.AS},\n",
    "  note={arXiv:2106.04624}\n",
    "}\n",
    "```"
   ]
  }
 ],
 "metadata": {
  "colab": {
   "provenance": [
    {
     "file_id": "1NEboTfb2EIBrc0nUd9NKwcG2eqf-kv3d",
     "timestamp": 1612452180302
    }
   ]
  },
  "kernelspec": {
   "display_name": "Python 3 (ipykernel)",
   "language": "python",
   "name": "python3"
  },
  "language_info": {
   "codemirror_mode": {
    "name": "ipython",
    "version": 3
   },
   "file_extension": ".py",
   "mimetype": "text/x-python",
   "name": "python",
   "nbconvert_exporter": "python",
   "pygments_lexer": "ipython3",
   "version": "3.12.6"
  }
 },
 "nbformat": 4,
 "nbformat_minor": 4
}
